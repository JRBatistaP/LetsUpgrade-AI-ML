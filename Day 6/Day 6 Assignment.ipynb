{
 "cells": [
  {
   "cell_type": "markdown",
   "metadata": {},
   "source": [
    "# Assignment Day 6 | 14th July 2020"
   ]
  },
  {
   "cell_type": "markdown",
   "metadata": {},
   "source": [
    "#### Junior Peña"
   ]
  },
  {
   "cell_type": "markdown",
   "metadata": {},
   "source": [
    "### Question 1:\n",
    "Assuming that we have some email addresses in the \"username@companyname.com\" format, please write program\n",
    "to print the company name of a given email address. Both user names and company names are composed of letters\n",
    "only.\n",
    "\n",
    "#### Input Format:\n",
    "\n",
    "The first line of the input contains an email address.\n",
    "\n",
    "#### Output Format:\n",
    "\n",
    "Print the company name in single line.\n",
    "\n",
    "#### Example;\n",
    "\n",
    "Input:\n",
    "\n",
    "john@google.com\n",
    "\n",
    "Output:\n",
    "\n",
    "google"
   ]
  },
  {
   "cell_type": "code",
   "execution_count": 9,
   "metadata": {},
   "outputs": [
    {
     "name": "stdout",
     "output_type": "stream",
     "text": [
      "Please enter the email: scottmendelson@yahoo.com\n",
      "The company is:  yahoo"
     ]
    }
   ],
   "source": [
    "a = input(\"Please enter the email: \")\n",
    "b = a.split(\"@\")\n",
    "c = b[0]\n",
    "d = b[1]\n",
    "e = d.split(\".\")\n",
    "print(\"The company is: \",e[0],end=\"\")"
   ]
  },
  {
   "cell_type": "markdown",
   "metadata": {},
   "source": [
    " "
   ]
  },
  {
   "cell_type": "markdown",
   "metadata": {},
   "source": [
    " "
   ]
  },
  {
   "cell_type": "markdown",
   "metadata": {},
   "source": [
    "### Question 2:\n",
    "Write a program that accepts a comma-separated sequence of words as input and prints the words in a comma\n",
    "separated sequence after sorting them alphabetically.\n",
    "\n",
    "#### Input Format:\n",
    "\n",
    "The first line of input contains words separated by the comma.\n",
    "\n",
    "#### Output Format:\n",
    "\n",
    "Print the sorted words separated by the comma.\n",
    "\n",
    "#### Example:\n",
    "\n",
    "Input:\n",
    "\n",
    "without,hello,bag,world\n",
    "\n",
    "Output:\n",
    "\n",
    "bag,hello,without,world"
   ]
  },
  {
   "cell_type": "code",
   "execution_count": 11,
   "metadata": {},
   "outputs": [
    {
     "name": "stdout",
     "output_type": "stream",
     "text": [
      "Please enter the comma separated words: dog,cat,table,drink,plate,yellow,air,pollution\n",
      "After sorting, the words are:  air,cat,dog,drink,plate,pollution,table,yellow\n"
     ]
    }
   ],
   "source": [
    "a = input(\"Please enter the comma separated words: \")\n",
    "b = a.split(\",\")\n",
    "c = sorted(b)\n",
    "print(\"After sorting, the words are: \",\",\".join(c))"
   ]
  },
  {
   "cell_type": "markdown",
   "metadata": {},
   "source": [
    " "
   ]
  },
  {
   "cell_type": "markdown",
   "metadata": {},
   "source": [
    " "
   ]
  },
  {
   "cell_type": "markdown",
   "metadata": {},
   "source": [
    "### Question 3:\n",
    "Create your own Jupyter Notebook for Sets.\n",
    "\n",
    "Reference link: https://www.w3schools.com/python/python_sets.asp"
   ]
  },
  {
   "cell_type": "markdown",
   "metadata": {},
   "source": [
    "### Sets"
   ]
  },
  {
   "attachments": {},
   "cell_type": "markdown",
   "metadata": {},
   "source": [
    "In Python, a set is a collection of items unordered and unindexed. As sets are mutable, one application for them is to quickly remove duplicates from a list.\n",
    "\n",
    "As dictionaries, sets are written with curly brackets but doesn't have keys just values."
   ]
  },
  {
   "cell_type": "markdown",
   "metadata": {},
   "source": [
    "#### Example"
   ]
  },
  {
   "cell_type": "code",
   "execution_count": 30,
   "metadata": {},
   "outputs": [
    {
     "name": "stdout",
     "output_type": "stream",
     "text": [
      "{1, 2, 3, 4, 5, 6, 7, 8, 9, 10}\n",
      "<class 'set'>\n"
     ]
    }
   ],
   "source": [
    "A = {1, 2, 3, 4, 5, 6, 7, 8, 9, 10}\n",
    "print(A)\n",
    "print(type(A))"
   ]
  },
  {
   "cell_type": "markdown",
   "metadata": {},
   "source": [
    "Sets can have multiple values inside it, as long as they are not duplicates."
   ]
  },
  {
   "cell_type": "code",
   "execution_count": 31,
   "metadata": {},
   "outputs": [
    {
     "name": "stdout",
     "output_type": "stream",
     "text": [
      "{18.24, 'Samsung', 4, (1+2j)}\n",
      "<class 'set'>\n"
     ]
    }
   ],
   "source": [
    "B = {4, \"Samsung\", 18.24, 1 + 2j}\n",
    "print(B)\n",
    "print(type(B))"
   ]
  },
  {
   "cell_type": "markdown",
   "metadata": {},
   "source": [
    "We can use the argument '.add' to add elements to a certain set."
   ]
  },
  {
   "cell_type": "code",
   "execution_count": 37,
   "metadata": {},
   "outputs": [
    {
     "name": "stdout",
     "output_type": "stream",
     "text": [
      "The original set is:  {'Benjamin', 'Emma', 'Saoirse', 'Catherine'}\n",
      "The new set is:  {'Isabella', 'Saoirse', 'Benjamin', 'Emma', 'Catherine'}\n"
     ]
    }
   ],
   "source": [
    "C = {\"Catherine\", \"Benjamin\", \"Saoirse\", \"Emma\"}\n",
    "print(\"The original set is: \", C)\n",
    "\n",
    "C.add(\"Isabella\")\n",
    "print(\"The new set is: \", C)"
   ]
  },
  {
   "cell_type": "markdown",
   "metadata": {},
   "source": [
    "We can also use the '.update' argument to add multiple elements."
   ]
  },
  {
   "cell_type": "code",
   "execution_count": 38,
   "metadata": {},
   "outputs": [
    {
     "name": "stdout",
     "output_type": "stream",
     "text": [
      "The original set is:  {1, 2.5, 3, 4.5, 5, 5.5}\n",
      "The new set is:  {1, 2.5, 3, 4.5, 5, 5.5, 6, 6.5, 7, 7.5}\n"
     ]
    }
   ],
   "source": [
    "D = {1, 2.5, 3, 4.5, 5, 5.5}\n",
    "print(\"The original set is: \", D)\n",
    "\n",
    "D.update([6, 6.5, 7, 7.5])\n",
    "print(\"The new set is: \", D)"
   ]
  },
  {
   "cell_type": "markdown",
   "metadata": {},
   "source": [
    "To remove elements from a set we can use the following arguments: '.remove', '.discard' and '.pop'. The '.pop' argument doesn't take any values, but removes the last element in the set."
   ]
  },
  {
   "cell_type": "code",
   "execution_count": 46,
   "metadata": {},
   "outputs": [
    {
     "name": "stdout",
     "output_type": "stream",
     "text": [
      "The original set is:  {'George', 'Ava', 4, 5, 6, 11.24, 47.5, 'Robert', 21.36}\n",
      "The new set after the use of the remove argument is:  {'George', 'Ava', 4, 5, 11.24, 47.5, 'Robert', 21.36}\n",
      "The new set after the use of the discard argument is:  {'George', 'Ava', 4, 5, 11.24, 'Robert', 21.36}\n",
      "The new set after the use of the pop argument is:  {'Ava', 4, 5, 11.24, 'Robert', 21.36}\n"
     ]
    }
   ],
   "source": [
    "E = {4, 5, 6, \"George\", \"Robert\", \"Ava\", 11.24, 21.36, 47.50}\n",
    "print(\"The original set is: \", E)\n",
    "\n",
    "#Remove argument\n",
    "E.remove(6)\n",
    "print(\"The new set after the use of the remove argument is: \", E)\n",
    "\n",
    "#Discard argument\n",
    "E.discard(47.50)\n",
    "print(\"The new set after the use of the discard argument is: \", E)\n",
    "\n",
    "#pop argument\n",
    "E.pop()\n",
    "print(\"The new set after the use of the pop argument is: \", E)"
   ]
  },
  {
   "cell_type": "markdown",
   "metadata": {},
   "source": [
    "We can also use the '.clear' argument to empty the set."
   ]
  },
  {
   "cell_type": "code",
   "execution_count": 47,
   "metadata": {},
   "outputs": [
    {
     "name": "stdout",
     "output_type": "stream",
     "text": [
      "The original set is:  {48, (3+2j), 8.56, 'Ford'}\n",
      "The new set after the use of the clear argument is:  set()\n"
     ]
    }
   ],
   "source": [
    "F = {\"Ford\", 48, 3 + 2j, 8.56}\n",
    "print(\"The original set is: \", F)\n",
    "\n",
    "F.clear()\n",
    "print(\"The new set after the use of the clear argument is: \", F)"
   ]
  },
  {
   "cell_type": "markdown",
   "metadata": {},
   "source": [
    "In the same way, the 'del' keyword, deletes the set completely."
   ]
  },
  {
   "cell_type": "code",
   "execution_count": 48,
   "metadata": {},
   "outputs": [
    {
     "name": "stdout",
     "output_type": "stream",
     "text": [
      "The original set is:  {24.89, 18, 'Laptop', (4+6j)}\n"
     ]
    },
    {
     "ename": "NameError",
     "evalue": "name 'G' is not defined",
     "output_type": "error",
     "traceback": [
      "\u001b[1;31m---------------------------------------------------------------------------\u001b[0m",
      "\u001b[1;31mNameError\u001b[0m                                 Traceback (most recent call last)",
      "\u001b[1;32m<ipython-input-48-c6f41cf9f3e5>\u001b[0m in \u001b[0;36m<module>\u001b[1;34m\u001b[0m\n\u001b[0;32m      3\u001b[0m \u001b[1;33m\u001b[0m\u001b[0m\n\u001b[0;32m      4\u001b[0m \u001b[1;32mdel\u001b[0m \u001b[0mG\u001b[0m\u001b[1;33m\u001b[0m\u001b[1;33m\u001b[0m\u001b[0m\n\u001b[1;32m----> 5\u001b[1;33m \u001b[0mprint\u001b[0m\u001b[1;33m(\u001b[0m\u001b[1;34m\"The new set after the use of the del keyword is: \"\u001b[0m\u001b[1;33m,\u001b[0m \u001b[0mG\u001b[0m\u001b[1;33m)\u001b[0m\u001b[1;33m\u001b[0m\u001b[1;33m\u001b[0m\u001b[0m\n\u001b[0m",
      "\u001b[1;31mNameError\u001b[0m: name 'G' is not defined"
     ]
    }
   ],
   "source": [
    "G = {18, 24.89, \"Laptop\", 4 + 6j}\n",
    "print(\"The original set is: \", G)\n",
    "\n",
    "del G\n",
    "print(\"The new set after the use of the del keyword is: \", G)"
   ]
  },
  {
   "cell_type": "markdown",
   "metadata": {},
   "source": [
    "As we saw with lists and tuples, we can use the 'set()' constructor to creat a set from a group of elements, keeping in mind that a set doesn't allow duplicate values. Also, we can use the '.union' argument to merge different sets.\n",
    "\n",
    "We are going to create two sets from a list and a tuple and then, merge them together."
   ]
  },
  {
   "cell_type": "code",
   "execution_count": 53,
   "metadata": {},
   "outputs": [
    {
     "name": "stdout",
     "output_type": "stream",
     "text": [
      "[2, 4, 8, 10, 'One', 'Three', 'Five']\n",
      "<class 'list'>\n",
      "(1, 3, 5, 7, 9, 'Seven', 'Nine')\n",
      "<class 'tuple'>\n",
      "{2, 4, 'Three', 8, 10, 'Five', 'One'}\n",
      "<class 'set'>\n",
      "{1, 3, 5, 7, 9, 'Nine', 'Seven'}\n",
      "<class 'set'>\n",
      "The new set is:  {1, 2, 3, 4, 'Three', 5, 7, 8, 9, 10, 'Five', 'Nine', 'One', 'Seven'}\n"
     ]
    }
   ],
   "source": [
    "#Create a list\n",
    "H = [2, 4, 8, 10, \"One\", \"Three\", \"Five\"]\n",
    "print(H)\n",
    "print(type(H))\n",
    "\n",
    "#Create a tuple\n",
    "I = (1, 3, 5, 7, 9, \"Seven\", \"Nine\")\n",
    "print(I)\n",
    "print(type(I))\n",
    "\n",
    "#Creat set from list\n",
    "H = set(H)\n",
    "print(H)\n",
    "print(type(H))\n",
    "\n",
    "#Creat set from tuple\n",
    "I = set(I)\n",
    "print(I)\n",
    "print(type(I))\n",
    "\n",
    "#Merge both sets\n",
    "J = H.union(I)\n",
    "print(\"The new set is: \", J)\n"
   ]
  },
  {
   "cell_type": "markdown",
   "metadata": {},
   "source": [
    " "
   ]
  },
  {
   "cell_type": "markdown",
   "metadata": {},
   "source": [
    " "
   ]
  },
  {
   "cell_type": "markdown",
   "metadata": {},
   "source": [
    "### Question 4:\n",
    "Given a list of n-1 numbers ranging from 1 to n, your task is to find the missing number. There are no duplicates.\n",
    "\n",
    "#### Input Format:\n",
    "\n",
    "The first line contains n-1 numbers with each number separated by a space.\n",
    "\n",
    "#### Output Format:\n",
    "\n",
    "Print the missing number\n",
    "\n",
    "#### Example:\n",
    "\n",
    "Input:1 2 4 6 3 7 8\n",
    "\n",
    "Output:5\n",
    "\n",
    "Explanation:\n",
    "\n",
    "In the above list of numbers 5 is missing and hence 5 is the input"
   ]
  },
  {
   "cell_type": "code",
   "execution_count": 23,
   "metadata": {},
   "outputs": [
    {
     "name": "stdout",
     "output_type": "stream",
     "text": [
      "Please enter the space separated numbers: 1 2 4 6 3 7 8\n",
      "The missing number is:  5\n"
     ]
    }
   ],
   "source": [
    "A = input(\"Please enter the space separated numbers: \")\n",
    "A = list(map(int, A.split()))\n",
    "\n",
    "def MissingNumber(A): \n",
    "    length = len(A) \n",
    "    total = (length + 1) * (length + 2) / 2\n",
    "    sum_number = sum(A) \n",
    "    return print(\"The missing number is: \", int(total - sum_number))\n",
    "\n",
    "MissingNumber(A)"
   ]
  },
  {
   "cell_type": "markdown",
   "metadata": {},
   "source": [
    " "
   ]
  },
  {
   "cell_type": "markdown",
   "metadata": {},
   "source": [
    " "
   ]
  },
  {
   "cell_type": "markdown",
   "metadata": {},
   "source": [
    "### Question 5:\n",
    "With a given list L, write a program to print this list L after removing all duplicate values with original order reserved.\n",
    "\n",
    "#### Example:\n",
    "\n",
    "If the input list is\n",
    "\n",
    "12 24 35 24 88 120 155 88 120 155\n",
    "\n",
    "Then the output should be\n",
    "\n",
    "12 24 35 88 120 155\n",
    "\n",
    "#### Explanation:\n",
    "\n",
    "Third, seventh and ninth element of the list L has been removed because it was already present.\n",
    "\n",
    "Input Format:\n",
    "\n",
    "In one line take the elements of the list L with each element separated by a space.\n",
    "\n",
    "Output Format:\n",
    "\n",
    "Print the elements of the modified list in one line with each element separated by a space.\n",
    "\n",
    "#### Example:\n",
    "\n",
    "Input: 12 24 35 24\n",
    "\n",
    "Output:\n",
    "\n",
    "12 24 35"
   ]
  },
  {
   "cell_type": "code",
   "execution_count": 29,
   "metadata": {},
   "outputs": [
    {
     "name": "stdout",
     "output_type": "stream",
     "text": [
      "Please enter the space separated numbers: 12 18 24 18 45 67 88 45 101 230 12 88\n",
      "The list without duplicates is : [12, 18, 24, 45, 67, 88, 101, 230]\n"
     ]
    }
   ],
   "source": [
    "number_list = input(\"Please enter the space separated numbers: \")\n",
    "number_list = list(map(int, number_list.split()))\n",
    " \n",
    "remove = [] \n",
    "[remove.append(x) for x in number_list if x not in remove] \n",
    "\n",
    "print (\"The list without duplicates is : \" + str(remove))"
   ]
  }
 ],
 "metadata": {
  "kernelspec": {
   "display_name": "Python 3",
   "language": "python",
   "name": "python3"
  },
  "language_info": {
   "codemirror_mode": {
    "name": "ipython",
    "version": 3
   },
   "file_extension": ".py",
   "mimetype": "text/x-python",
   "name": "python",
   "nbconvert_exporter": "python",
   "pygments_lexer": "ipython3",
   "version": "3.7.6"
  }
 },
 "nbformat": 4,
 "nbformat_minor": 4
}
