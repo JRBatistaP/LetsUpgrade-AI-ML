{
 "cells": [
  {
   "cell_type": "markdown",
   "metadata": {},
   "source": [
    "# Assignment Day 14 & 15 | 24th July 2020"
   ]
  },
  {
   "cell_type": "markdown",
   "metadata": {},
   "source": [
    "#### Junior Peña"
   ]
  },
  {
   "cell_type": "code",
   "execution_count": 1,
   "metadata": {},
   "outputs": [],
   "source": [
    "#Import libraries\n",
    "import numpy as np"
   ]
  },
  {
   "cell_type": "markdown",
   "metadata": {},
   "source": [
    "# 1. Create a 3x3x3 array with random values "
   ]
  },
  {
   "cell_type": "code",
   "execution_count": 2,
   "metadata": {},
   "outputs": [
    {
     "name": "stdout",
     "output_type": "stream",
     "text": [
      "[[[0.90320974 0.38371332 0.33924135]\n",
      "  [0.70753302 0.73747137 0.01746201]\n",
      "  [0.58467118 0.57866137 0.07380623]]\n",
      "\n",
      " [[0.45515431 0.06283312 0.07357532]\n",
      "  [0.4117175  0.92880671 0.32374017]\n",
      "  [0.38160111 0.67042919 0.41644883]]\n",
      "\n",
      " [[0.71860171 0.8260385  0.3843137 ]\n",
      "  [0.49644739 0.2733792  0.3454266 ]\n",
      "  [0.97616714 0.25670307 0.83798489]]]\n"
     ]
    }
   ],
   "source": [
    "a = np.random.rand(3,3,3)\n",
    "print(a)"
   ]
  },
  {
   "cell_type": "markdown",
   "metadata": {},
   "source": [
    "# 2.Create a 5x5 matrix with values 1,2,3,4 just below the diagonal"
   ]
  },
  {
   "cell_type": "code",
   "execution_count": 3,
   "metadata": {},
   "outputs": [
    {
     "name": "stdout",
     "output_type": "stream",
     "text": [
      "[[0 0 0 0 0]\n",
      " [1 0 0 0 0]\n",
      " [0 2 0 0 0]\n",
      " [0 0 3 0 0]\n",
      " [0 0 0 4 0]]\n"
     ]
    }
   ],
   "source": [
    "a = np.diag([1,2,3,4], k = -1)\n",
    "print (a)"
   ]
  },
  {
   "cell_type": "markdown",
   "metadata": {},
   "source": [
    "# 3.Create a 8x8 matrix and fill it with a checkerboard pattern"
   ]
  },
  {
   "cell_type": "code",
   "execution_count": 4,
   "metadata": {},
   "outputs": [
    {
     "name": "stdout",
     "output_type": "stream",
     "text": [
      "[[0 1 0 1 0 1 0 1]\n",
      " [1 0 1 0 1 0 1 0]\n",
      " [0 1 0 1 0 1 0 1]\n",
      " [1 0 1 0 1 0 1 0]\n",
      " [0 1 0 1 0 1 0 1]\n",
      " [1 0 1 0 1 0 1 0]\n",
      " [0 1 0 1 0 1 0 1]\n",
      " [1 0 1 0 1 0 1 0]]\n"
     ]
    }
   ],
   "source": [
    "a = np.zeros((8,8),dtype=int)\n",
    "a[1::2,::2] = 1\n",
    "a[::2,1::2] = 1\n",
    "print(a)"
   ]
  },
  {
   "cell_type": "markdown",
   "metadata": {},
   "source": [
    "# 4. Normalize a 5x5 random matrix"
   ]
  },
  {
   "cell_type": "code",
   "execution_count": 5,
   "metadata": {},
   "outputs": [
    {
     "name": "stdout",
     "output_type": "stream",
     "text": [
      "The original array is: \n",
      " [[0.61834259 0.17805917 0.6261752  0.9763974  0.11963569]\n",
      " [0.18779035 0.42467312 0.14366649 0.10266315 0.96065028]\n",
      " [0.04317191 0.69804952 0.77140539 0.77817981 0.06491212]\n",
      " [0.95821192 0.28384415 0.78613175 0.15358104 0.10476669]\n",
      " [0.21241088 0.79099013 0.64555591 0.56764459 0.03953897]]\n",
      "\n",
      "The array normalized is: \n",
      " [[0.61781332 0.14785607 0.62617383 1.         0.08549502]\n",
      " [0.1582431  0.41109108 0.11114541 0.06737857 0.98319156]\n",
      " [0.00387779 0.70289227 0.78119211 0.78842311 0.02708323]\n",
      " [0.98058886 0.26077065 0.79691099 0.12172818 0.06962389]\n",
      " [0.18452299 0.80209681 0.64686074 0.56369843 0.        ]]\n"
     ]
    }
   ],
   "source": [
    "a = np.random.random((5,5))\n",
    "print(\"The original array is: \\n\", a)\n",
    "\n",
    "amax, amin = a.max(), a.min()\n",
    "a = (a - amin)/(amax - amin)\n",
    "print(\"\\nThe array normalized is: \\n\", a)"
   ]
  },
  {
   "cell_type": "markdown",
   "metadata": {},
   "source": [
    "# 5.  How to find common values between two arrays?"
   ]
  },
  {
   "cell_type": "code",
   "execution_count": 6,
   "metadata": {},
   "outputs": [
    {
     "name": "stdout",
     "output_type": "stream",
     "text": [
      "Please enter the first array: 5 11 18 31 38 45 83 98 112 148\n",
      "The first array is: \n",
      " [  5  11  18  31  38  45  83  98 112 148]\n",
      "\n",
      "Please enter the second array: 2 11 31 42 65 83 92 98 105 148\n",
      "The second array is: \n",
      " [  2  11  31  42  65  83  92  98 105 148]\n",
      "\n",
      "The common values between the two arrays are: \n",
      "[ 11  31  83  98 148]\n"
     ]
    }
   ],
   "source": [
    "a= list(map(int,input(\"Please enter the first array: \").split()))\n",
    "a = np.asarray(a)\n",
    "print(\"The first array is: \\n\",a)\n",
    "\n",
    "b= list(map(int,input(\"\\nPlease enter the second array: \").split()))\n",
    "b = np.asarray(b)\n",
    "print(\"The second array is: \\n\",b)\n",
    "\n",
    "print(\"\\nThe common values between the two arrays are: \")\n",
    "print(np.intersect1d(a, b))"
   ]
  },
  {
   "cell_type": "markdown",
   "metadata": {},
   "source": [
    "# 6.How to get the dates of yesterday, today and tomorrow?"
   ]
  },
  {
   "cell_type": "code",
   "execution_count": 7,
   "metadata": {},
   "outputs": [
    {
     "name": "stdout",
     "output_type": "stream",
     "text": [
      "Yestraday's date is:  2020-07-26\n",
      "Today's date is:  2020-07-27\n",
      "Tomorrow's date is:  2020-07-28\n"
     ]
    }
   ],
   "source": [
    "a = np.datetime64('today', 'D') - np.timedelta64(1, 'D')\n",
    "print(\"Yestraday's date is: \",a)\n",
    "b = np.datetime64('today', 'D')\n",
    "print(\"Today's date is: \",b)\n",
    "c = np.datetime64('today', 'D') + np.timedelta64(1, 'D')\n",
    "print(\"Tomorrow's date is: \",c)"
   ]
  },
  {
   "cell_type": "markdown",
   "metadata": {},
   "source": [
    "# 7. Consider two random array A and B, check if they are equal"
   ]
  },
  {
   "cell_type": "code",
   "execution_count": 8,
   "metadata": {},
   "outputs": [
    {
     "name": "stdout",
     "output_type": "stream",
     "text": [
      "The first array is:  [1 1 0 0 1 0 1]\n",
      "The second array is:  [0 0 1 1 1 1 1]\n",
      "\n",
      "¿Are both arrays equal?\n",
      " False\n"
     ]
    }
   ],
   "source": [
    "a = np.random.randint(0,2,7)\n",
    "print(\"The first array is: \", a)\n",
    "b = np.random.randint(0,2,7)\n",
    "print(\"The second array is: \", b)\n",
    "\n",
    "equal = np.allclose(a,b)\n",
    "print(\"\\n¿Are both arrays equal?\\n\", equal)"
   ]
  },
  {
   "cell_type": "markdown",
   "metadata": {},
   "source": [
    "# 8.Create random vector of size 10 and replace the maximum value by 0 "
   ]
  },
  {
   "cell_type": "code",
   "execution_count": 9,
   "metadata": {},
   "outputs": [
    {
     "name": "stdout",
     "output_type": "stream",
     "text": [
      "The vector is:  [0.68505075 0.11078064 0.87429027 0.48006922 0.40279603 0.36312166\n",
      " 0.10331411 0.17427361 0.33131232 0.35673202]\n",
      "\n",
      "The maximum value is:  0.874290268283544\n",
      "\n",
      "The vector after max value being replaced is:  [0.68505075 0.11078064 0.         0.48006922 0.40279603 0.36312166\n",
      " 0.10331411 0.17427361 0.33131232 0.35673202]\n"
     ]
    }
   ],
   "source": [
    "a = np.random.random(10)\n",
    "print(\"The vector is: \", a)\n",
    "print(\"\\nThe maximum value is: \", a.max())\n",
    "a[a.argmax()] = 0\n",
    "print(\"\\nThe vector after max value being replaced is: \", a)"
   ]
  },
  {
   "cell_type": "markdown",
   "metadata": {},
   "source": [
    "# 9. How to print all the values of an array?"
   ]
  },
  {
   "cell_type": "code",
   "execution_count": 10,
   "metadata": {},
   "outputs": [
    {
     "name": "stdout",
     "output_type": "stream",
     "text": [
      "[[0. 0. 0. 0. 0. 0. 0. 0. 0. 0.]\n",
      " [0. 0. 0. 0. 0. 0. 0. 0. 0. 0.]\n",
      " [0. 0. 0. 0. 0. 0. 0. 0. 0. 0.]\n",
      " [0. 0. 0. 0. 0. 0. 0. 0. 0. 0.]\n",
      " [0. 0. 0. 0. 0. 0. 0. 0. 0. 0.]\n",
      " [0. 0. 0. 0. 0. 0. 0. 0. 0. 0.]\n",
      " [0. 0. 0. 0. 0. 0. 0. 0. 0. 0.]\n",
      " [0. 0. 0. 0. 0. 0. 0. 0. 0. 0.]\n",
      " [0. 0. 0. 0. 0. 0. 0. 0. 0. 0.]\n",
      " [0. 0. 0. 0. 0. 0. 0. 0. 0. 0.]]\n"
     ]
    }
   ],
   "source": [
    "np.set_printoptions(threshold=np.inf)\n",
    "a = np.zeros((10, 10))\n",
    "print(a)"
   ]
  },
  {
   "cell_type": "markdown",
   "metadata": {},
   "source": [
    "# 10.Subtract the mean of each row of a matrix"
   ]
  },
  {
   "cell_type": "code",
   "execution_count": 11,
   "metadata": {},
   "outputs": [
    {
     "name": "stdout",
     "output_type": "stream",
     "text": [
      "The original array is: \n",
      " [[0.60532822 0.40087286 0.0570457 ]\n",
      " [0.32625819 0.81367428 0.52880391]\n",
      " [0.98333551 0.701188   0.36131841]\n",
      " [0.80349488 0.35527742 0.75038457]]\n",
      "\n",
      "The array after the subtraction is:  [[ 0.25091262  0.04645726 -0.29736989]\n",
      " [-0.22998728  0.25742882 -0.02744155]\n",
      " [ 0.3013882   0.01924069 -0.3206289 ]\n",
      " [ 0.16710926 -0.28110821  0.11399895]]\n"
     ]
    }
   ],
   "source": [
    "a = np.random.rand(4, 3)\n",
    "print(\"The original array is: \\n\",a)\n",
    "\n",
    "b = a - a.mean(axis=1, keepdims=True)\n",
    "print(\"\\nThe array after the subtraction is: \",b)"
   ]
  },
  {
   "cell_type": "markdown",
   "metadata": {},
   "source": [
    "# 11.Consider a given vector, how to add 1 to each element indexed by a second vector (be careful with repeated indices)? "
   ]
  },
  {
   "cell_type": "code",
   "execution_count": 12,
   "metadata": {},
   "outputs": [
    {
     "name": "stdout",
     "output_type": "stream",
     "text": [
      "The first vector is:  [1. 1. 1. 1. 1. 1. 1. 1. 1. 1.]\n",
      "The second vector is:  [1 4 0 9 0 6 8 1 3 0 7 1 8 4 1 2 9 0 7 3]\n",
      "Thi final vector is:  [5. 5. 2. 3. 3. 1. 2. 3. 3. 3.]\n"
     ]
    }
   ],
   "source": [
    "a = np.ones(10)\n",
    "print(\"The first vector is: \", a)\n",
    "b = np.random.randint(0,len(a),20)\n",
    "print(\"The second vector is: \",b)\n",
    "a += np.bincount(b, minlength=len(a))\n",
    "print(\"Thi final vector is: \",a)"
   ]
  },
  {
   "cell_type": "markdown",
   "metadata": {},
   "source": [
    "# 12.How to get the diagonal of a dot product?"
   ]
  },
  {
   "cell_type": "code",
   "execution_count": 13,
   "metadata": {},
   "outputs": [
    {
     "name": "stdout",
     "output_type": "stream",
     "text": [
      "The first array is: \n",
      " [[10 16  3 10  7]\n",
      " [ 8  3  5 13 16]\n",
      " [ 5 11 15 17  4]\n",
      " [ 7  7 14 14 13]\n",
      " [ 8  4 12  1 15]]\n",
      "\n",
      "The second array is: \n",
      " [[ 7 12 19  2  0]\n",
      " [16 12 17 17 18]\n",
      " [ 7 18  3  6  1]\n",
      " [13 11  5 11 17]\n",
      " [ 0 16 19 12 16]]\n",
      "\n",
      "The diagonal of the dot product is:  [477 621 488 527 341]\n"
     ]
    }
   ],
   "source": [
    "a = np.random.randint(0,20,(5,5))\n",
    "print(\"The first array is: \\n\",a)\n",
    "b = np.random.randint(0,20,(5,5))\n",
    "print(\"\\nThe second array is: \\n\",b)\n",
    "\n",
    "c = np.diag(np.dot(a, b))\n",
    "print(\"\\nThe diagonal of the dot product is: \", c)"
   ]
  },
  {
   "cell_type": "markdown",
   "metadata": {},
   "source": [
    "# 13.How to find the most frequent value in an array?"
   ]
  },
  {
   "cell_type": "code",
   "execution_count": 14,
   "metadata": {},
   "outputs": [
    {
     "name": "stdout",
     "output_type": "stream",
     "text": [
      "The array is: \n",
      " [44 13 39 19  5 21 18 28 11 31 11 43 29 49  3 38 46 46  9 23  2 24 20 21\n",
      " 43  1 39  7 38 31  6  3 14 12 37 24 17 21  8  3 21 48 17 32 17 27 31 36\n",
      " 41 44 27 38  4  8 42 17 15  0 41 37  1 14 15 46 43  6 38 38  5 38 43  5\n",
      " 17  9 12 21 20 39 26 26 48 12 44 48 15 11  7 41 18 48  5 37 11 34 47 38\n",
      " 31  5  7 35]\n",
      "The most frequent value is:  38\n"
     ]
    }
   ],
   "source": [
    "a = np.random.randint(0,50,100)\n",
    "print(\"The array is: \\n\",a)\n",
    "print(\"The most frequent value is: \", np.bincount(a).argmax())"
   ]
  },
  {
   "cell_type": "markdown",
   "metadata": {},
   "source": [
    "# 14.How to get the n largest values of an array"
   ]
  },
  {
   "cell_type": "code",
   "execution_count": 15,
   "metadata": {},
   "outputs": [
    {
     "name": "stdout",
     "output_type": "stream",
     "text": [
      "The array is: \n",
      " [  0   1   2   3   4   5   6   7   8   9  10  11  12  13  14  15  16  17\n",
      "  18  19  20  21  22  23  24  25  26  27  28  29  30  31  32  33  34  35\n",
      "  36  37  38  39  40  41  42  43  44  45  46  47  48  49  50  51  52  53\n",
      "  54  55  56  57  58  59  60  61  62  63  64  65  66  67  68  69  70  71\n",
      "  72  73  74  75  76  77  78  79  80  81  82  83  84  85  86  87  88  89\n",
      "  90  91  92  93  94  95  96  97  98  99 100 101 102 103 104 105 106 107\n",
      " 108 109 110 111 112 113 114 115 116 117 118 119 120 121 122 123 124 125\n",
      " 126 127 128 129 130 131 132 133 134 135 136 137 138 139 140 141 142 143\n",
      " 144 145 146 147 148 149 150 151 152 153 154 155 156 157 158 159 160 161\n",
      " 162 163 164 165 166 167 168 169 170 171 172 173 174 175 176 177 178 179\n",
      " 180 181 182 183 184 185 186 187 188 189 190 191 192 193 194 195 196 197\n",
      " 198 199]\n",
      "\n",
      "The  8  largest values of the array are:  [192 193 194 195 196 197 198 199]\n"
     ]
    }
   ],
   "source": [
    "a = np.arange(200)\n",
    "print(\"The array is: \\n\",a)\n",
    "np.random.shuffle(a)\n",
    "n = 8\n",
    "\n",
    "print(\"\\nThe \",n,\" largest values of the array are: \",a[np.argsort(a)[-n:]])"
   ]
  },
  {
   "cell_type": "markdown",
   "metadata": {},
   "source": [
    "# 15.How to create a record array from a regular array?"
   ]
  },
  {
   "cell_type": "code",
   "execution_count": 16,
   "metadata": {},
   "outputs": [
    {
     "name": "stdout",
     "output_type": "stream",
     "text": [
      "('Harry', 'James', 'Potter')\n",
      "('Ronald', 'Bilius', 'Weasley')\n",
      "('Hermione', 'Jean', 'Granger')\n",
      "('Luna', 'Lovegood', 'Scamander')\n"
     ]
    }
   ],
   "source": [
    "a = np.array(['Harry','Ronald','Hermione','Luna'])\n",
    "b = np.array(['James','Bilius','Jean','Lovegood'])\n",
    "c = np.array(['Potter','Weasley','Granger','Scamander'])\n",
    "d = np.core.records.fromarrays([a, b, c])\n",
    "print(d[0])\n",
    "print(d[1])\n",
    "print(d[2])\n",
    "print(d[3])"
   ]
  }
 ],
 "metadata": {
  "kernelspec": {
   "display_name": "Python 3",
   "language": "python",
   "name": "python3"
  },
  "language_info": {
   "codemirror_mode": {
    "name": "ipython",
    "version": 3
   },
   "file_extension": ".py",
   "mimetype": "text/x-python",
   "name": "python",
   "nbconvert_exporter": "python",
   "pygments_lexer": "ipython3",
   "version": "3.7.6"
  }
 },
 "nbformat": 4,
 "nbformat_minor": 2
}
