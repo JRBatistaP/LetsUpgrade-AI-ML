{
 "cells": [
  {
   "cell_type": "markdown",
   "metadata": {},
   "source": [
    "# Assignment Day 5 | 10th July 2020"
   ]
  },
  {
   "cell_type": "markdown",
   "metadata": {},
   "source": [
    "#### Junior Peña"
   ]
  },
  {
   "cell_type": "markdown",
   "metadata": {},
   "source": [
    "### Question 1 :\n",
    "Write a Python program to find the first 20 non-even prime natural numbers."
   ]
  },
  {
   "cell_type": "code",
   "execution_count": 10,
   "metadata": {},
   "outputs": [
    {
     "name": "stdout",
     "output_type": "stream",
     "text": [
      "The first 20 non-even prime natural numbers are: \n",
      "3\n",
      "5\n",
      "7\n",
      "11\n",
      "13\n",
      "17\n",
      "19\n",
      "23\n",
      "29\n",
      "31\n",
      "37\n",
      "41\n",
      "43\n",
      "47\n",
      "53\n",
      "59\n",
      "61\n",
      "67\n",
      "71\n",
      "73\n"
     ]
    }
   ],
   "source": [
    "print(\"The first 20 non-even prime natural numbers are: \")\n",
    "\n",
    "for i in range(3, 74):\n",
    "       for j in range(2, i):\n",
    "           if (i % j) == 0:\n",
    "               break\n",
    "       else:\n",
    "           print(i)"
   ]
  },
  {
   "cell_type": "markdown",
   "metadata": {},
   "source": [
    "### Question 2 :\n",
    "Write a Python program to implement 15 functions of string."
   ]
  },
  {
   "cell_type": "code",
   "execution_count": 36,
   "metadata": {},
   "outputs": [
    {
     "name": "stdout",
     "output_type": "stream",
     "text": [
      "Junior Peña Is a student\n",
      "jUNIOR pEÑA iS A STUDENT\n",
      "junior peña is a student\n",
      "JUNIOR PEÑA IS A STUDENT\n",
      "False False\n",
      "Junior Piña Is a srudenr\n",
      "11 12\n",
      "2 7\n",
      "******Junior Peña*******\n",
      "1 2\n",
      "False\n",
      "True\n",
      "['Junior', 'Peña']\n",
      "00Is a student\n",
      "False\n"
     ]
    }
   ],
   "source": [
    "a = \"Junior Peña\"\n",
    "b = \"Is a student\"\n",
    "\n",
    "#Addition function\n",
    "print(a+ \" \"+b)\n",
    "\n",
    "#swapcase function\n",
    "print(a.swapcase(), b.swapcase())\n",
    "\n",
    "#lower function\n",
    "print(a.lower(), b.lower())\n",
    "\n",
    "#upper function\n",
    "print(a.upper(), b.upper())\n",
    "\n",
    "#isalpha function\n",
    "print(a.isalpha(), b.isalpha())\n",
    "\n",
    "#replace function\n",
    "print(a.replace('e','i'), b.replace('t','r'))\n",
    "\n",
    "#len function\n",
    "print(len(a), len(b))\n",
    "\n",
    "#find function\n",
    "print(a.find('n'), b.find('u'))\n",
    "\n",
    "#center function\n",
    "print(a.center(24, '*'))\n",
    "\n",
    "#count function\n",
    "print(a.count('u'), b.count('t'))\n",
    "\n",
    "#startswith function\n",
    "print(a.startswith('Peña'))\n",
    "\n",
    "#endswith function\n",
    "print(b.endswith('ent'))\n",
    "\n",
    "#split function\n",
    "print(a.split())\n",
    "\n",
    "#zfill function\n",
    "print(b.zfill(14))\n",
    "\n",
    "#isalnum function\n",
    "print(a.isalnum())"
   ]
  },
  {
   "cell_type": "markdown",
   "metadata": {},
   "source": [
    "### Question 3:\n",
    "Write a Python program to check if the given string is a Palindrome or Anagram or None of them.\n",
    "Display the message accordingly to the user."
   ]
  },
  {
   "cell_type": "code",
   "execution_count": 49,
   "metadata": {},
   "outputs": [
    {
     "name": "stdout",
     "output_type": "stream",
     "text": [
      "Please enter the string: listen\n",
      "The string isn't a Palindrome, please enter the second string to check if both are Anagram: silent\n",
      "The string  listen  and the string  silent  are Anagram of each other\n"
     ]
    }
   ],
   "source": [
    "#Palindrome function\n",
    "def isPalindrome(a): \n",
    "    return a == a[::-1] \n",
    "\n",
    "#Anagram function\n",
    "def areAnagram(a, b):  \n",
    "    # Get lengths of both strings  \n",
    "    len1 = len(a)  \n",
    "    len2 = len(b)  \n",
    "  \n",
    "    # If lenght of both strings is not same, then  \n",
    "    # they cannot be anagram  \n",
    "    if len1 != len2:  \n",
    "        return 0\n",
    "  \n",
    "    # Sort both strings  \n",
    "    a = sorted(a) \n",
    "    b = sorted(b) \n",
    "  \n",
    "    # Compare sorted strings  \n",
    "    for i in range(0, len1):  \n",
    "        if a[i] != b[i]:  \n",
    "            return 0\n",
    "  \n",
    "    return 1\n",
    "  \n",
    "\n",
    "a = input(\"Please enter the string: \")\n",
    "ans = isPalindrome(a) \n",
    "\n",
    "#Check if it is Palindrome\n",
    "if ans: \n",
    "    print(\"The string \", a, \" is a Palindrome\") \n",
    "#If it isn't, then ask for a second string to check if there is an Anagram\n",
    "else: \n",
    "    b = input(\"The string isn't a Palindrome, please enter the second string to check if both are Anagram: \")\n",
    "    if areAnagram(a, b):  \n",
    "        print (\"The string \",a, \" and the string \",b, \" are Anagram of each other\") \n",
    "    else:  \n",
    "        print (\"There isn't a Palindrome nor Anagram between the strings \",a, \"and \",b) "
   ]
  },
  {
   "cell_type": "markdown",
   "metadata": {},
   "source": [
    "### Question 4:\n",
    "Write a Python's user defined function that removes all the additional characters from the string\n",
    "and converts it finally to lower case using built-in lower(). eg: If the string is \"Dr. Darshan Ingle\n",
    "@AI-ML Trainer\", then the output be \"drdarshaningleaimltrainer\"."
   ]
  },
  {
   "cell_type": "code",
   "execution_count": 69,
   "metadata": {},
   "outputs": [
    {
     "name": "stdout",
     "output_type": "stream",
     "text": [
      "Please enter the string: Dr. Darshan Ingle @AI-ML Trainer\n",
      "drdarshaningleaimltrainer\n"
     ]
    }
   ],
   "source": [
    "string = input(\"Please enter the string: \")\n",
    "def RemoveAdditional(string):\n",
    "    words = string\n",
    "    for i in words:\n",
    "        if not(i.isalpha()):\n",
    "            words = words.lower().replace(i, '')\n",
    "    print(words)\n",
    "\n",
    "RemoveAdditional(string)"
   ]
  }
 ],
 "metadata": {
  "kernelspec": {
   "display_name": "Python 3",
   "language": "python",
   "name": "python3"
  },
  "language_info": {
   "codemirror_mode": {
    "name": "ipython",
    "version": 3
   },
   "file_extension": ".py",
   "mimetype": "text/x-python",
   "name": "python",
   "nbconvert_exporter": "python",
   "pygments_lexer": "ipython3",
   "version": "3.7.6"
  }
 },
 "nbformat": 4,
 "nbformat_minor": 4
}
