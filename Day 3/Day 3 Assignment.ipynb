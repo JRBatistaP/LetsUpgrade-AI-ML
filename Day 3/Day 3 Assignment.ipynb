{
 "cells": [
  {
   "cell_type": "markdown",
   "metadata": {},
   "source": [
    "# Assignment Day 3 | 8th July 2020"
   ]
  },
  {
   "cell_type": "markdown",
   "metadata": {},
   "source": [
    "#### Junior Peña"
   ]
  },
  {
   "cell_type": "markdown",
   "metadata": {},
   "source": [
    "### Question 1 :\n",
    "Write a program to subtract two complex numbers in Python."
   ]
  },
  {
   "cell_type": "code",
   "execution_count": 2,
   "metadata": {},
   "outputs": [
    {
     "name": "stdout",
     "output_type": "stream",
     "text": [
      "The subtraction of a and b is:  (4+14j)\n"
     ]
    }
   ],
   "source": [
    "a = 18 + 24j\n",
    "b = 14 + 10j\n",
    "c = a - b\n",
    "\n",
    "print(\"The subtraction of a and b is: \", c)"
   ]
  },
  {
   "cell_type": "markdown",
   "metadata": {},
   "source": [
    "### Question 2 :\n",
    "Write a program to find the fourth root of a number."
   ]
  },
  {
   "cell_type": "code",
   "execution_count": 16,
   "metadata": {},
   "outputs": [
    {
     "name": "stdout",
     "output_type": "stream",
     "text": [
      "Enter a random number: 256\n",
      "The fourth root of  256.0 is:  4.0\n"
     ]
    }
   ],
   "source": [
    "a = float(input(\"Enter a random number: \"))\n",
    "b = a**(0.25)\n",
    "print(\"The fourth root of \",a,\"is: \", b)"
   ]
  },
  {
   "cell_type": "markdown",
   "metadata": {},
   "source": [
    "### Question 3:\n",
    "Write a program to swap two numbers in Python with the help of a temporary variable."
   ]
  },
  {
   "cell_type": "code",
   "execution_count": 18,
   "metadata": {},
   "outputs": [
    {
     "name": "stdout",
     "output_type": "stream",
     "text": [
      "Enter any number: 18\n",
      "Enter a different number: 24\n",
      "The first number entered is:  18\n",
      "The second number entered is:  24\n",
      "The first number after swapping is:  24\n",
      "The second number after swapping is:  18\n"
     ]
    }
   ],
   "source": [
    "a = input(\"Enter any number: \")\n",
    "b = input(\"Enter a different number: \")\n",
    "\n",
    "print(\"The first number entered is: \", a)\n",
    "print(\"The second number entered is: \", b)\n",
    "\n",
    "temp = a\n",
    "a = b\n",
    "b = temp\n",
    "\n",
    "print(\"The first number after swapping is: \", a)\n",
    "print(\"The second number after swapping is: \", b)"
   ]
  },
  {
   "cell_type": "markdown",
   "metadata": {},
   "source": [
    "### Question 4:\n",
    "Write a program to swap two numbers in Python without using a temporary variable."
   ]
  },
  {
   "cell_type": "code",
   "execution_count": 20,
   "metadata": {},
   "outputs": [
    {
     "name": "stdout",
     "output_type": "stream",
     "text": [
      "Enter any number: 40\n",
      "Enter a different number: 50\n",
      "The first number entered is:  40\n",
      "The second number entered is:  50\n",
      "The first number after swapping is:  50\n",
      "The second number after swapping is:  40\n"
     ]
    }
   ],
   "source": [
    "a = input(\"Enter any number: \")\n",
    "b = input(\"Enter a different number: \")\n",
    "\n",
    "print(\"The first number entered is: \", a)\n",
    "print(\"The second number entered is: \", b)\n",
    "\n",
    "a, b = b, a\n",
    "\n",
    "print(\"The first number after swapping is: \", a)\n",
    "print(\"The second number after swapping is: \", b)"
   ]
  },
  {
   "cell_type": "markdown",
   "metadata": {},
   "source": [
    "### Question 5:\n",
    "Write a program to convert fahrenheit to kelvin and celsius both."
   ]
  },
  {
   "cell_type": "code",
   "execution_count": 29,
   "metadata": {},
   "outputs": [
    {
     "name": "stdout",
     "output_type": "stream",
     "text": [
      "Enter the degree in Farenheit: 91\n",
      "91.0 Farenheit is  305.92777777777775 Kelvin\n",
      "91.0 Farenheit is  32.77777777777778 Celsius\n"
     ]
    }
   ],
   "source": [
    "a = float(input(\"Enter the degree in Farenheit: \"))\n",
    "b = ((a - 32) * 5/9 + 273.15)\n",
    "c = ((a - 32) * 5/9)\n",
    "\n",
    "print(a,\"Farenheit is \",b,\"Kelvin\")\n",
    "print(a,\"Farenheit is \",c,\"Celsius\")"
   ]
  },
  {
   "cell_type": "markdown",
   "metadata": {},
   "source": [
    "### Question 6:\n",
    "Write a program to demonstrate all the available data types in Python. Hint: Use type() function."
   ]
  },
  {
   "cell_type": "code",
   "execution_count": 39,
   "metadata": {},
   "outputs": [
    {
     "name": "stdout",
     "output_type": "stream",
     "text": [
      "Data Type of  18  is:  <class 'int'>\n",
      "Data Type of  51.78  is:  <class 'float'>\n",
      "Data Type of  (8+13j)  is:  <class 'complex'>\n",
      "Data Type of  True  is:  <class 'bool'>\n",
      "Data Type of  Hello  is:  <class 'str'>\n",
      "Data Type of  [41, 7, 'Hello', (1+2j)]  is:  <class 'list'>\n",
      "Data Type of  (3, 'Hello', (5+23j), 87)  is:  <class 'tuple'>\n",
      "Data Type of  {'Name': 'Junior', 'Lastname': 'Peña', 'Age': 24, 'Height': 6.2}  is:  <class 'dict'>\n",
      "Data Type of  {1, (12+21j), 4.589, 'Hello'}  is:  <class 'set'>\n"
     ]
    }
   ],
   "source": [
    "# Integer \n",
    "a = 18\n",
    "print(\"Data Type of \",a,\" is: \", type(a))\n",
    "\n",
    "# Float \n",
    "b = 51.78\n",
    "print(\"Data Type of \",b,\" is: \", type(b))\n",
    "\n",
    "# Compex \n",
    "c = 8 + 13j\n",
    "print(\"Data Type of \",c,\" is: \", type(c))\n",
    "\n",
    "# Boolean \n",
    "d = True\n",
    "print(\"Data Type of \",d,\" is: \", type(d))\n",
    "\n",
    "# String \n",
    "e = \"Hello\"\n",
    "print(\"Data Type of \",e,\" is: \", type(e))\n",
    "\n",
    "# List \n",
    "f = [41, 7, \"Hello\", 1 + 2j]\n",
    "print(\"Data Type of \",f,\" is: \", type(f))\n",
    "\n",
    "# Tuple \n",
    "g = (3, \"Hello\", 5 + 23j, 87)\n",
    "print(\"Data Type of \",g,\" is: \", type(g))\n",
    "\n",
    "# Dictionary \n",
    "h = {\"Name\":\"Junior\", \"Lastname\":\"Peña\", \"Age\":24, \"Height\":6.2}\n",
    "print(\"Data Type of \",h,\" is: \", type(h))\n",
    "\n",
    "# Set \n",
    "i = {12 + 21j, \"Hello\", 4.589, 1}\n",
    "print(\"Data Type of \",i,\" is: \", type(i))"
   ]
  },
  {
   "cell_type": "markdown",
   "metadata": {},
   "source": [
    "### Question 7:\n",
    "Create a Markdown cell in jupyter and list the steps discussed in the session by Dr. Darshan\n",
    "Ingle sir to create Github profile and upload Githubs Assignment link"
   ]
  },
  {
   "cell_type": "markdown",
   "metadata": {},
   "source": [
    "### Steps to create Github profile and upload Githubs Assignment link\n",
    "\n",
    "#### 1- Go to https://github.com/ and sign in to your account. If you don't have an account created, click 'Sign up for Github' button and enter your information to create it.\n",
    "\n",
    "#### 2- Once created, in the homepage go to 'Repositories' at the left side and click 'New'.\n",
    "\n",
    "#### 3. Enter the repository name as 'LetsUpgrade-AI-ML'. Be sure that the repository is public (you can check this by trying to open it from an incognito window) and then, click the 'Create repository' button.\n",
    "\n",
    "#### 4. Once in your repository, click 'Add file' and then 'Upload files'. Drag the folder in your computer with the name of 'Day 3' which has the notebook of the assignment. After that, name the file in the 'Commit changes' box and finally click 'Commit changes'.\n",
    "\n",
    "#### 5. Once commited, copy the link of your repository and go to https://docs.google.com/forms/d/e/1FAIpQLSevTAqI8dJNbK9qDQA0POHMdKGaZqS9c7nO3W0ture1nNfqVg/viewform. Fill the information required and at the bottom, paste your repository's link."
   ]
  },
  {
   "cell_type": "code",
   "execution_count": null,
   "metadata": {},
   "outputs": [],
   "source": []
  }
 ],
 "metadata": {
  "kernelspec": {
   "display_name": "Python 3",
   "language": "python",
   "name": "python3"
  },
  "language_info": {
   "codemirror_mode": {
    "name": "ipython",
    "version": 3
   },
   "file_extension": ".py",
   "mimetype": "text/x-python",
   "name": "python",
   "nbconvert_exporter": "python",
   "pygments_lexer": "ipython3",
   "version": "3.7.6"
  }
 },
 "nbformat": 4,
 "nbformat_minor": 4
}
