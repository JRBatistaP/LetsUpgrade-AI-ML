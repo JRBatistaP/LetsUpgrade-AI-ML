{
 "cells": [
  {
   "cell_type": "markdown",
   "metadata": {},
   "source": [
    "# Assignment Day 4 | 9th July 2020"
   ]
  },
  {
   "cell_type": "markdown",
   "metadata": {},
   "source": [
    "#### Junior Peña"
   ]
  },
  {
   "cell_type": "markdown",
   "metadata": {},
   "source": [
    "### Question 1 :\n",
    "Research on whether addition, subtraction, multiplication, division, floor division and modulo\n",
    "operations be performed on complex numbers. Based on your study, implement a Python\n",
    "program to demonstrate these operations."
   ]
  },
  {
   "cell_type": "code",
   "execution_count": 9,
   "metadata": {},
   "outputs": [
    {
     "name": "stdout",
     "output_type": "stream",
     "text": [
      "The result of the addition is:  (17+39j)\n",
      "The result of the subtraction is:  (-9-3j)\n",
      "The result of the multiplication is:  (-326+318j)\n",
      "The result of the division is:  (0.7049180327868851+0.2459016393442623j)\n"
     ]
    }
   ],
   "source": [
    "a = 4 + 18j\n",
    "b = 13 + 21j\n",
    "\n",
    "print(\"The result of the addition is: \", a + b)\n",
    "print(\"The result of the subtraction is: \", a - b)\n",
    "print(\"The result of the multiplication is: \", a * b)\n",
    "print(\"The result of the division is: \", a / b)\n",
    "\n",
    "# The floor function is defined as the largest integer less than or equal to the real number given.\n",
    "#Since \"less than or equal to\" isn't defined for complex numbers you can't have a floor function for them.\n",
    "#print(\"The result of the floor division is: \", a // b)\n",
    "\n",
    "#The modulo operation can't be performed on complex numbers\n",
    "#print(\"The result of the addition is: \", a % b)"
   ]
  },
  {
   "cell_type": "markdown",
   "metadata": {},
   "source": [
    "### Question 2 :\n",
    "Research on range() functions and its parameters. Create a markdown cell and write in your own\n",
    "words (no copy-paste from google please) what you understand about it. Implement a small\n",
    "program of your choice on the same."
   ]
  },
  {
   "cell_type": "markdown",
   "metadata": {},
   "source": [
    "#### Range function\n",
    "Range function is used as an easier way to generate a series of numbers. Instead of specifying all the numbers i wish to limite, i can just use the range function with the following parameters available: the start number, the stop number and the step to increment in the sequence (this is optional).\n",
    "\n",
    "Example:"
   ]
  },
  {
   "cell_type": "code",
   "execution_count": 13,
   "metadata": {},
   "outputs": [
    {
     "name": "stdout",
     "output_type": "stream",
     "text": [
      "10\n",
      "20\n",
      "30\n",
      "40\n",
      "50\n",
      "60\n",
      "70\n",
      "80\n",
      "90\n",
      "100\n"
     ]
    }
   ],
   "source": [
    "#Print the numbers between 10 and 101-1 with a setep of 10 between them\n",
    "for i in range(10,101,10):\n",
    "    print(i)"
   ]
  },
  {
   "cell_type": "markdown",
   "metadata": {},
   "source": [
    "### Question 3:\n",
    "Consider two numbers. Perform their subtraction and if the result of subtraction is greater than\n",
    "25, print their multiplication result else print their division result.\n"
   ]
  },
  {
   "cell_type": "code",
   "execution_count": 18,
   "metadata": {},
   "outputs": [
    {
     "name": "stdout",
     "output_type": "stream",
     "text": [
      "Please enter the first number: 60\n",
      "Please enter the second number: 30\n",
      "The result of multiplication is:  1800\n"
     ]
    }
   ],
   "source": [
    "a = int(input(\"Please enter the first number: \"))\n",
    "b = int(input(\"Please enter the second number: \"))\n",
    "\n",
    "c = a - b\n",
    "if c > 25:\n",
    "    print(\"The result of multiplication is: \", a * b)\n",
    "else:\n",
    "    print(\"The result of division is: \", a / b)"
   ]
  },
  {
   "cell_type": "markdown",
   "metadata": {},
   "source": [
    "### Question 4:\n",
    "Consider a list of 10 elements of integer values. If the number in the list is divisible by 2, print the\n",
    "result as \"square of that number minus 2\"."
   ]
  },
  {
   "cell_type": "code",
   "execution_count": 24,
   "metadata": {},
   "outputs": [
    {
     "name": "stdout",
     "output_type": "stream",
     "text": [
      "The number generated are:  [3, 86, 14, 26, 85, 22, 87, 62, 24, 47]\n",
      "The square of  86  minus 2 is : 7394\n",
      "The square of  14  minus 2 is : 194\n",
      "The square of  26  minus 2 is : 674\n",
      "The square of  22  minus 2 is : 482\n",
      "The square of  62  minus 2 is : 3842\n",
      "The square of  24  minus 2 is : 574\n"
     ]
    }
   ],
   "source": [
    "import random\n",
    "#Generate 10 random numbers between 1 and 101-1\n",
    "a_list = random.sample(range(1, 101), 10)\n",
    "print(\"The number generated are: \",a_list)\n",
    "\n",
    "for i in a_list:\n",
    "    if i % 2 == 0:\n",
    "        print(\"The square of \",i,\" minus 2 is :\", (i**2) - 2)"
   ]
  },
  {
   "cell_type": "markdown",
   "metadata": {},
   "source": [
    "### Question 5:\n",
    "Consider a list of 10 elements. Print all the elements in the list which are greater than 7 when that\n",
    "number is divided 2."
   ]
  },
  {
   "cell_type": "code",
   "execution_count": 45,
   "metadata": {},
   "outputs": [
    {
     "name": "stdout",
     "output_type": "stream",
     "text": [
      "The number generated are:  [15, 17, 4, 25, 7, 12, 8, 2, 13, 20]\n",
      "The number greater than 7 when divided by 2 is:  15\n",
      "The number greater than 7 when divided by 2 is:  17\n",
      "The number greater than 7 when divided by 2 is:  25\n",
      "The number greater than 7 when divided by 2 is:  20\n"
     ]
    }
   ],
   "source": [
    "import random\n",
    "#Generate 10 random numbers between 1 and 26-1\n",
    "a_list = random.sample(range(1, 26), 10)\n",
    "print(\"The number generated are: \",a_list)\n",
    "\n",
    "for i in a_list:\n",
    "    if (i / 2) > 7:\n",
    "        print(\"The number greater than 7 when divided by 2 is: \",i)"
   ]
  },
  {
   "cell_type": "code",
   "execution_count": null,
   "metadata": {},
   "outputs": [],
   "source": []
  }
 ],
 "metadata": {
  "kernelspec": {
   "display_name": "Python 3",
   "language": "python",
   "name": "python3"
  },
  "language_info": {
   "codemirror_mode": {
    "name": "ipython",
    "version": 3
   },
   "file_extension": ".py",
   "mimetype": "text/x-python",
   "name": "python",
   "nbconvert_exporter": "python",
   "pygments_lexer": "ipython3",
   "version": "3.7.6"
  }
 },
 "nbformat": 4,
 "nbformat_minor": 4
}
